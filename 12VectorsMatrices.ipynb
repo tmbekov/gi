{
 "cells": [
  {
   "cell_type": "markdown",
   "id": "e310b09a",
   "metadata": {},
   "source": [
    "## Vectors and matrices"
   ]
  },
  {
   "cell_type": "code",
   "execution_count": 1,
   "id": "78123920",
   "metadata": {},
   "outputs": [],
   "source": [
    "import numpy as np"
   ]
  },
  {
   "cell_type": "code",
   "execution_count": null,
   "id": "b350f21d",
   "metadata": {},
   "outputs": [],
   "source": [
    "data = [1.72, 54, 36.2] # height, weight, neck circumference"
   ]
  },
  {
   "cell_type": "code",
   "execution_count": 3,
   "id": "3813b8b3",
   "metadata": {},
   "outputs": [
    {
     "data": {
      "text/plain": [
       "list"
      ]
     },
     "execution_count": 3,
     "metadata": {},
     "output_type": "execute_result"
    }
   ],
   "source": [
    "type(data)"
   ]
  },
  {
   "cell_type": "code",
   "execution_count": 5,
   "id": "7915c2ed",
   "metadata": {},
   "outputs": [
    {
     "data": {
      "text/plain": [
       "array([ 1.72, 54.  , 36.2 ])"
      ]
     },
     "execution_count": 5,
     "metadata": {},
     "output_type": "execute_result"
    }
   ],
   "source": [
    "data_numpy = np.array(data)\n",
    "data_numpy"
   ]
  },
  {
   "cell_type": "code",
   "execution_count": 6,
   "id": "34da4b5c",
   "metadata": {},
   "outputs": [
    {
     "data": {
      "text/plain": [
       "array([[ 1.72, 54.  , 36.2 ],\n",
       "       [ 1.74, 58.  , 36.3 ],\n",
       "       [ 1.68, 52.  , 32.9 ]])"
      ]
     },
     "execution_count": 6,
     "metadata": {},
     "output_type": "execute_result"
    }
   ],
   "source": [
    "# If we have some notes we need matrice\n",
    "data_matrix = np.array([[1.72, 54, 36.2], [1.74, 58, 36.3], [1.68, 52, 32.9]])\n",
    "data_matrix"
   ]
  },
  {
   "cell_type": "code",
   "execution_count": 7,
   "id": "1569fa2a",
   "metadata": {},
   "outputs": [
    {
     "data": {
      "text/plain": [
       "(3, 3)"
      ]
     },
     "execution_count": 7,
     "metadata": {},
     "output_type": "execute_result"
    }
   ],
   "source": [
    "data_matrix.shape"
   ]
  },
  {
   "cell_type": "markdown",
   "id": "babbc9f1",
   "metadata": {},
   "source": [
    "### Dot product"
   ]
  },
  {
   "cell_type": "code",
   "execution_count": 11,
   "id": "cb79af91",
   "metadata": {},
   "outputs": [],
   "source": [
    "a = np.array([1.72, 54])\n",
    "w = np.array([19.86, 0.05])"
   ]
  },
  {
   "cell_type": "code",
   "execution_count": 12,
   "id": "3454dc5d",
   "metadata": {},
   "outputs": [
    {
     "data": {
      "text/plain": [
       "36.8592"
      ]
     },
     "execution_count": 12,
     "metadata": {},
     "output_type": "execute_result"
    }
   ],
   "source": [
    "1.72 * 19.86 + 54 * 0.05"
   ]
  },
  {
   "cell_type": "code",
   "execution_count": 13,
   "id": "f60d1ef1",
   "metadata": {},
   "outputs": [
    {
     "data": {
      "text/plain": [
       "36.8592"
      ]
     },
     "execution_count": 13,
     "metadata": {},
     "output_type": "execute_result"
    }
   ],
   "source": [
    "np.dot(a, w)"
   ]
  },
  {
   "cell_type": "markdown",
   "id": "8094e9bb",
   "metadata": {},
   "source": [
    "Cosine similarity between vectors"
   ]
  },
  {
   "cell_type": "markdown",
   "id": "098ee780",
   "metadata": {},
   "source": [
    "The first step\n",
    "$$ \\cos \\theta ={\\mathbf {b} \\cdot \\mathbf {c} \\over \\|\\mathbf {b} \\|\\|\\mathbf {c} \\|} $$"
   ]
  },
  {
   "cell_type": "code",
   "execution_count": 14,
   "id": "369b977f",
   "metadata": {},
   "outputs": [],
   "source": [
    "b = np.array([1.72, 54, 36.2])\n",
    "c = np.array([1.56, 47, 30.0])"
   ]
  },
  {
   "cell_type": "code",
   "execution_count": 15,
   "id": "5409a018",
   "metadata": {},
   "outputs": [],
   "source": [
    "numerator = np.dot(b, c)"
   ]
  },
  {
   "cell_type": "code",
   "execution_count": 16,
   "id": "8175b92d",
   "metadata": {},
   "outputs": [],
   "source": [
    "bLen = np.linalg.norm(b)\n",
    "cLen = np.linalg.norm(c)\n",
    "\n",
    "denominator = bLen * cLen"
   ]
  },
  {
   "cell_type": "code",
   "execution_count": 17,
   "id": "1e3c6dc7",
   "metadata": {},
   "outputs": [
    {
     "data": {
      "text/plain": [
       "0.9997468709497721"
      ]
     },
     "execution_count": 17,
     "metadata": {},
     "output_type": "execute_result"
    }
   ],
   "source": [
    "cosine = numerator/denominator\n",
    "cosine"
   ]
  },
  {
   "cell_type": "markdown",
   "id": "5864cd76",
   "metadata": {},
   "source": [
    "Second step"
   ]
  },
  {
   "cell_type": "code",
   "execution_count": 18,
   "id": "ec8a84b5",
   "metadata": {},
   "outputs": [],
   "source": [
    "angle_radians = np.arccos(cosine)\n",
    "\n",
    "# затем в градусах\n",
    "angle_degrees = angle_radians * 180/np.pi"
   ]
  },
  {
   "cell_type": "code",
   "execution_count": 19,
   "id": "0b8d5b17",
   "metadata": {},
   "outputs": [
    {
     "data": {
      "text/plain": [
       "1.2891925481394304"
      ]
     },
     "execution_count": 19,
     "metadata": {},
     "output_type": "execute_result"
    }
   ],
   "source": [
    "angle_degrees"
   ]
  }
 ],
 "metadata": {
  "kernelspec": {
   "display_name": "Python 3 (ipykernel)",
   "language": "python",
   "name": "python3"
  },
  "language_info": {
   "codemirror_mode": {
    "name": "ipython",
    "version": 3
   },
   "file_extension": ".py",
   "mimetype": "text/x-python",
   "name": "python",
   "nbconvert_exporter": "python",
   "pygments_lexer": "ipython3",
   "version": "3.12.3"
  }
 },
 "nbformat": 4,
 "nbformat_minor": 5
}
